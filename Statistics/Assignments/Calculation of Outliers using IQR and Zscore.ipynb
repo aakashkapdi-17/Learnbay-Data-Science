{
 "cells": [
  {
   "cell_type": "code",
   "execution_count": 63,
   "id": "89f98ea4",
   "metadata": {},
   "outputs": [],
   "source": [
    "import numpy as np\n",
    "import matplotlib.pyplot as plt\n",
    "import itertools"
   ]
  },
  {
   "cell_type": "code",
   "execution_count": 64,
   "id": "11c6af06",
   "metadata": {},
   "outputs": [],
   "source": [
    "nums=[20,24,22,19,29,18,4300,30,18] "
   ]
  },
  {
   "cell_type": "code",
   "execution_count": 65,
   "id": "c39f880f",
   "metadata": {},
   "outputs": [
    {
     "data": {
      "text/plain": [
       "{'whiskers': [<matplotlib.lines.Line2D at 0x2cb4b12fa30>,\n",
       "  <matplotlib.lines.Line2D at 0x2cb4b12fcd0>],\n",
       " 'caps': [<matplotlib.lines.Line2D at 0x2cb4b12ff70>,\n",
       "  <matplotlib.lines.Line2D at 0x2cb4b140250>],\n",
       " 'boxes': [<matplotlib.lines.Line2D at 0x2cb4b12f790>],\n",
       " 'medians': [<matplotlib.lines.Line2D at 0x2cb4b1404f0>],\n",
       " 'fliers': [<matplotlib.lines.Line2D at 0x2cb4b140790>],\n",
       " 'means': []}"
      ]
     },
     "execution_count": 65,
     "metadata": {},
     "output_type": "execute_result"
    },
    {
     "data": {
      "image/png": "[encoded data removed]",
      "text/plain": [
       "<Figure size 640x480 with 1 Axes>"
      ]
     },
     "metadata": {},
     "output_type": "display_data"
    }
   ],
   "source": [
    "plt.boxplot(nums)"
   ]
  },
  {
   "cell_type": "markdown",
   "id": "d962a273",
   "metadata": {},
   "source": [
    "# IQR Method"
   ]
  },
  {
   "cell_type": "code",
   "execution_count": 66,
   "id": "50433a20",
   "metadata": {},
   "outputs": [
    {
     "name": "stdout",
     "output_type": "stream",
     "text": [
      "10.0\n"
     ]
    }
   ],
   "source": [
    "IQR=np.quantile(nums,0.75)-np.quantile(nums,0.25)\n",
    "print(IQR)"
   ]
  },
  {
   "cell_type": "code",
   "execution_count": 67,
   "id": "32d4da8b",
   "metadata": {},
   "outputs": [
    {
     "name": "stdout",
     "output_type": "stream",
     "text": [
      "4.0 44.0\n"
     ]
    }
   ],
   "source": [
    "lower_limit=np.quantile(nums,0.25)-(1.5*IQR)\n",
    "upper_limit=np.quantile(nums,0.75)+(1.5*IQR)\n",
    "print(lower_limit,upper_limit)"
   ]
  },
  {
   "cell_type": "code",
   "execution_count": 68,
   "id": "5a3420ad",
   "metadata": {},
   "outputs": [],
   "source": [
    "outliers=[value for value in nums if value<lower_limit or value>upper_limit]"
   ]
  },
  {
   "cell_type": "code",
   "execution_count": 69,
   "id": "c62a2ddf",
   "metadata": {},
   "outputs": [
    {
     "data": {
      "text/plain": [
       "[4300]"
      ]
     },
     "execution_count": 69,
     "metadata": {},
     "output_type": "execute_result"
    }
   ],
   "source": [
    "outliers"
   ]
  },
  {
   "cell_type": "markdown",
   "id": "ff41a66b",
   "metadata": {},
   "source": [
    "# Z Score Method"
   ]
  },
  {
   "cell_type": "code",
   "execution_count": 70,
   "id": "c29dbf2e",
   "metadata": {},
   "outputs": [
    {
     "name": "stdout",
     "output_type": "stream",
     "text": [
      "[19.629710952922434, 23.629710952922434, 21.629710952922434, 18.629710952922434, 28.629710952922434, 17.629710952922434, 4299.629710952922, 29.629710952922434, 17.629710952922434]\n"
     ]
    }
   ],
   "source": [
    "Zscore=[value-np.mean(nums)/np.std(nums) for value in nums]\n",
    "print(Zscore)"
   ]
  },
  {
   "cell_type": "code",
   "execution_count": 72,
   "id": "e0aca5a4",
   "metadata": {},
   "outputs": [
    {
     "name": "stdout",
     "output_type": "stream",
     "text": [
      "[20, 24, 22, 19, 29, 18, 4300, 30, 18]\n"
     ]
    }
   ],
   "source": [
    "outliers=[]\n",
    "for num,zscore in zip(nums,Zscore):\n",
    "        if zscore<-3 or zscore>3:\n",
    "            outliers.append(num)\n",
    "print(outliers)"
   ]
  },
  {
   "cell_type": "code",
   "execution_count": null,
   "id": "9e2079a8",
   "metadata": {},
   "outputs": [],
   "source": []
  },
  {
   "cell_type": "code",
   "execution_count": null,
   "id": "1190db96",
   "metadata": {},
   "outputs": [],
   "source": []
  }
 ],
 "metadata": {
  "kernelspec": {
   "display_name": "Python 3 (ipykernel)",
   "language": "python",
   "name": "python3"
  },
  "language_info": {
   "codemirror_mode": {
    "name": "ipython",
    "version": 3
   },
   "file_extension": ".py",
   "mimetype": "text/x-python",
   "name": "python",
   "nbconvert_exporter": "python",
   "pygments_lexer": "ipython3",
   "version": "3.10.9"
  }
 },
 "nbformat": 4,
 "nbformat_minor": 5
}
