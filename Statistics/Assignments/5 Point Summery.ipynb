{
 "cells": [
  {
   "cell_type": "code",
   "execution_count": 23,
   "id": "ebf51ef1",
   "metadata": {},
   "outputs": [
    {
     "name": "stderr",
     "output_type": "stream",
     "text": [
      "Matplotlib is building the font cache; this may take a moment.\n"
     ]
    }
   ],
   "source": [
    "import numpy as np\n",
    "import matplotlib.pyplot as plt"
   ]
  },
  {
   "cell_type": "code",
   "execution_count": 17,
   "id": "44f2d70c",
   "metadata": {},
   "outputs": [],
   "source": [
    "num=[19,26,25,37,32,28,22,23,29,34,39]"
   ]
  },
  {
   "cell_type": "code",
   "execution_count": 18,
   "id": "94579c67",
   "metadata": {},
   "outputs": [
    {
     "data": {
      "text/plain": [
       "28.545454545454547"
      ]
     },
     "execution_count": 18,
     "metadata": {},
     "output_type": "execute_result"
    }
   ],
   "source": [
    "np.mean(num)"
   ]
  },
  {
   "cell_type": "code",
   "execution_count": 19,
   "id": "04a67a11",
   "metadata": {},
   "outputs": [
    {
     "data": {
      "text/plain": [
       "28.0"
      ]
     },
     "execution_count": 19,
     "metadata": {},
     "output_type": "execute_result"
    }
   ],
   "source": [
    "np.median(num)"
   ]
  },
  {
   "cell_type": "code",
   "execution_count": 20,
   "id": "d89a9ddc",
   "metadata": {},
   "outputs": [
    {
     "data": {
      "text/plain": [
       "24.0"
      ]
     },
     "execution_count": 20,
     "metadata": {},
     "output_type": "execute_result"
    }
   ],
   "source": [
    "np.quantile(num,0.25)"
   ]
  },
  {
   "cell_type": "code",
   "execution_count": 21,
   "id": "2f6655b5",
   "metadata": {},
   "outputs": [
    {
     "data": {
      "text/plain": [
       "28.0"
      ]
     },
     "execution_count": 21,
     "metadata": {},
     "output_type": "execute_result"
    }
   ],
   "source": [
    "np.quantile(num,0.50)"
   ]
  },
  {
   "cell_type": "code",
   "execution_count": 22,
   "id": "5087a7b2",
   "metadata": {},
   "outputs": [
    {
     "data": {
      "text/plain": [
       "33.0"
      ]
     },
     "execution_count": 22,
     "metadata": {},
     "output_type": "execute_result"
    }
   ],
   "source": [
    "np.quantile(num,0.75)"
   ]
  },
  {
   "cell_type": "code",
   "execution_count": 24,
   "id": "d363f68d",
   "metadata": {},
   "outputs": [
    {
     "data": {
      "text/plain": [
       "{'whiskers': [<matplotlib.lines.Line2D at 0x246bf7bfb80>,\n",
       "  <matplotlib.lines.Line2D at 0x246bf7bfe20>],\n",
       " 'caps': [<matplotlib.lines.Line2D at 0x246bf800100>,\n",
       "  <matplotlib.lines.Line2D at 0x246bf8003a0>],\n",
       " 'boxes': [<matplotlib.lines.Line2D at 0x246bf7bf8e0>],\n",
       " 'medians': [<matplotlib.lines.Line2D at 0x246bf800640>],\n",
       " 'fliers': [<matplotlib.lines.Line2D at 0x246bf8008e0>],\n",
       " 'means': []}"
      ]
     },
     "execution_count": 24,
     "metadata": {},
     "output_type": "execute_result"
    },
    {
     "data": {
      "image/png": "[encoded data removed]",
      "text/plain": [
       "<Figure size 640x480 with 1 Axes>"
      ]
     },
     "metadata": {},
     "output_type": "display_data"
    }
   ],
   "source": [
    "plt.boxplot(num)"
   ]
  },
  {
   "cell_type": "code",
   "execution_count": 25,
   "id": "9b5001f5",
   "metadata": {},
   "outputs": [],
   "source": [
    "iqr=np.quantile(num,0.75)-np.quantile(num,0.25)"
   ]
  },
  {
   "cell_type": "code",
   "execution_count": 27,
   "id": "a63da2f9",
   "metadata": {},
   "outputs": [
    {
     "data": {
      "text/plain": [
       "9.0"
      ]
     },
     "execution_count": 27,
     "metadata": {},
     "output_type": "execute_result"
    }
   ],
   "source": [
    "iqr"
   ]
  },
  {
   "cell_type": "code",
   "execution_count": null,
   "id": "77aff5cf",
   "metadata": {},
   "outputs": [],
   "source": []
  }
 ],
 "metadata": {
  "kernelspec": {
   "display_name": "Python 3 (ipykernel)",
   "language": "python",
   "name": "python3"
  },
  "language_info": {
   "codemirror_mode": {
    "name": "ipython",
    "version": 3
   },
   "file_extension": ".py",
   "mimetype": "text/x-python",
   "name": "python",
   "nbconvert_exporter": "python",
   "pygments_lexer": "ipython3",
   "version": "3.10.9"
  }
 },
 "nbformat": 4,
 "nbformat_minor": 5
}
